{
 "cells": [
  {
   "cell_type": "code",
   "execution_count": 32,
   "metadata": {},
   "outputs": [],
   "source": [
    "import os\n",
    "import open3d as o3d\n",
    "import numpy as np\n",
    "import laspy as lp\n",
    "import open3d.visualization as viz\n",
    "import time\n",
    "import matplotlib.pyplot as plt\n",
    "import cv2\n",
    "from sklearn.cluster import KMeans"
   ]
  },
  {
   "cell_type": "code",
   "execution_count": 13,
   "metadata": {},
   "outputs": [
    {
     "name": "stdout",
     "output_type": "stream",
     "text": [
      "sample: [[1.66019183e+05 4.23100000e-01 9.29000000e-02]\n",
      " [1.66019165e+05 4.23100000e-01 1.00700000e-01]\n",
      " [1.66019175e+05 3.98100000e-01 9.29000000e-02]\n",
      " [1.66019190e+05 4.48100000e-01 9.29000000e-02]\n",
      " [1.66019190e+05 4.45000000e-01 9.29000000e-02]]\n",
      "shape: (61584, 3)\n",
      "min_x = 166018.81453481654, max_x = 166024.2895349596\n",
      "min_y = -3.501817226409912, max_y = 3.3481829166412354\n",
      "min_z = -0.035207200795412064, max_z = 5.505418300628662\n"
     ]
    }
   ],
   "source": [
    "# example code on how to read a LAS file\n",
    "las = lp.read('./data/Pole1.las')\n",
    "points = np.vstack((las.x, las.y, las.z)).transpose()\n",
    "\n",
    "pcd = o3d.geometry.PointCloud()\n",
    "pcd.points = o3d.utility.Vector3dVector(points)\n",
    "\n",
    "print(f'sample: {points[0:5]}')\n",
    "print(f'shape: {points.shape}')\n",
    "print(f'min_x = {las.header.x_min}, max_x = {las.header.x_max}')\n",
    "print(f'min_y = {las.header.y_min}, max_y = {las.header.y_max}')\n",
    "print(f'min_z = {las.header.z_min}, max_z = {las.header.z_max}')"
   ]
  },
  {
   "cell_type": "code",
   "execution_count": 14,
   "metadata": {},
   "outputs": [],
   "source": [
    "def visualize(geoms, capture_filename=''):\n",
    "    '''\n",
    "        Helper function to run the Open3D visualizer\n",
    "        Usage: \n",
    "\n",
    "        From the pcd variable above, you can call visualize with:\n",
    "        visualize([pcd])\n",
    "\n",
    "\n",
    "        Axis:   x = red\n",
    "                y = green\n",
    "                z = blue\n",
    "    '''\n",
    "    v = viz.Visualizer()\n",
    "    v.create_window()\n",
    "    opt = v.get_render_option()\n",
    "    opt.show_coordinate_frame = True\n",
    "    \n",
    "    for g in geoms:\n",
    "        v.add_geometry(g)\n",
    "    \n",
    "    ctr = v.get_view_control()\n",
    "    # assumes default of 1920x1080 window\n",
    "    camera_params = o3d.io.read_pinhole_camera_parameters('./camera_trajectory.json')\n",
    "    ctr.convert_from_pinhole_camera_parameters(camera_params)\n",
    "\n",
    "    if capture_filename != '':\n",
    "        time.sleep(1)\n",
    "        v.capture_screen_image(capture_filename, True)\n",
    "    else:\n",
    "        # press \"h\" for help when in the visualizer for the commands\n",
    "        v.run()\n",
    "    v.destroy_window()"
   ]
  },
  {
   "cell_type": "code",
   "execution_count": 39,
   "metadata": {},
   "outputs": [],
   "source": [
    "def kmean_solution(las):\n",
    "    \n",
    "    points = np.vstack((las.x, las.y, las.z)).transpose()\n",
    "    points_normalized = points.copy()\n",
    "    range_x = las.header.x_max - las.header.x_min\n",
    "    range_y = las.header.y_max - las.header.y_min\n",
    "    range_z = las.header.z_max - las.header.z_min\n",
    "\n",
    "    mean_z = (points[:,2]).mean()\n",
    "    pcd = o3d.geometry.PointCloud()\n",
    "    pcd.points = o3d.utility.Vector3dVector(points)\n",
    "\n",
    "    # Perform K-means clustering\n",
    "    num_clusters = 2\n",
    "    kmeans = KMeans(n_clusters=num_clusters)\n",
    "    x_normalized = [(i- las.header.x_min)/range_x for i in points[:,0]]\n",
    "    y_normalized = [(i- las.header.y_min)/range_y for i in points[:,1]]\n",
    "    z_normalized = [5*(i- las.header.z_min)/range_z for i in points[:,2]]\n",
    "\n",
    "    points_normalized[:,0], points_normalized[:,1], points_normalized[:,2] = x_normalized, y_normalized, z_normalized\n",
    "    kmeans.fit(points_normalized)\n",
    "\n",
    "    # Get the cluster labels\n",
    "    labels = kmeans.labels_\n",
    "    ground_points_idx = np.where(labels == 0)[0]\n",
    " \n",
    "    return ground_points_idx"
   ]
  },
  {
   "cell_type": "code",
   "execution_count": 15,
   "metadata": {},
   "outputs": [],
   "source": [
    "def slope_based_solution(las_file):\n",
    "    points = np.vstack((las_file.x, las_file.y, las_file.z)).transpose()\n",
    "    origin_points = points.copy()\n",
    "\n",
    "    pcd = o3d.geometry.PointCloud()\n",
    "    pcd.points = o3d.utility.Vector3dVector(points)\n",
    "\n",
    "    # Define window size for slope calculation\n",
    "    window_size = 3\n",
    "    slope_threshold = 1.56\n",
    "\n",
    "    # Calculate slopes for each point\n",
    "    slopes = []\n",
    "    for i in range(window_size, len(points) - window_size):\n",
    "        # Fit a plane to the local points\n",
    "        local_points = points[i - window_size:i + window_size + 1, :]\n",
    "        centroid = np.mean(local_points, axis=0)\n",
    "        local_points -= centroid\n",
    "        _, _, V = np.linalg.svd(local_points)\n",
    "        normal = V[2]\n",
    "\n",
    "        # Calculate slope from normal vector\n",
    "        slope = np.arctan(normal[2] / np.sqrt(normal[0] ** 2 + normal[1] ** 2))\n",
    "        slopes.append(slope)\n",
    "\n",
    "    # Find ground points based on slope threshold\n",
    "    slopes = np.array(slopes)\n",
    "    if np.any(np.isnan(slopes)) or np.any(np.isinf(slopes)):\n",
    "        # Remove NaN or infinity values from slopes array\n",
    "        slopes = slopes[np.isfinite(slopes)]\n",
    "        points = points[:len(slopes), :]\n",
    "        \n",
    "    ground_points_idx = np.where(slopes >= abs(slope_threshold))[0]\n",
    "    ground_points = origin_points[ground_points_idx]\n",
    "    z_mean_ground = (ground_points[:,2]).mean()\n",
    "    ground_points_idx = np.where(origin_points[:,2]< z_mean_ground)[0]\n",
    "    \n",
    "    return ground_points_idx"
   ]
  },
  {
   "cell_type": "code",
   "execution_count": 16,
   "metadata": {},
   "outputs": [],
   "source": [
    "def cv2_inrange(HSV, low_range, high_range):\n",
    "    # Define lower and uppper limits of what we call \"ground\"\n",
    "    range_lo = np.array(low_range, np.uint8) \n",
    "    range_hi = np.array(high_range, np.uint8) \n",
    "\n",
    "    # Mask image to only select ground\n",
    "    mask = cv2.inRange(HSV, range_lo, range_hi)\n",
    "    \n",
    "    return mask"
   ]
  },
  {
   "cell_type": "code",
   "execution_count": 17,
   "metadata": {},
   "outputs": [],
   "source": [
    "def inRange_solution(las):    \n",
    "    R = las.points[\"red\"]\n",
    "    G = las.points[\"green\"]\n",
    "    B = las.points[\"blue\"]\n",
    "\n",
    "    # Make a Numpy image by stacking the RGB values and converting to uint8\n",
    "    BGR = (np.dstack((B, G, R)) >> 8).astype(np.uint8)\n",
    "    # Convert to HSV\n",
    "    HSV = cv2.cvtColor(BGR, cv2.COLOR_BGR2HSV)\n",
    "\n",
    "    lowran = [0, 0, 40]; highran = [180, 18, 230]\n",
    "    mask = cv2_inrange(HSV, lowran, highran)\n",
    "\n",
    "    lowran = [36, 25, 25]; highran = [70, 255,255]\n",
    "    mask2 = cv2_inrange(HSV, lowran, highran)\n",
    "\n",
    "    lowran = [5,52,39]; highran = [20,255,200]\n",
    "    mask3 = cv2_inrange(HSV, lowran, highran)\n",
    "\n",
    "\n",
    "    tt_mask = mask+mask2+mask3\n",
    "\n",
    "    index = np.where(tt_mask>0)\n",
    "    tmp = []\n",
    "    for i in range(len(index[1])):\n",
    "        tmp.append([index[1][i]])\n",
    "\n",
    "    return np.array(tmp)"
   ]
  },
  {
   "cell_type": "code",
   "execution_count": 46,
   "metadata": {},
   "outputs": [],
   "source": [
    "def ground_detection(pcd, points, ground_points_idx):\n",
    "    pcd.points = o3d.utility.Vector3dVector(points)\n",
    "\n",
    "    # RGB, colour everything red first\n",
    "    pcd.paint_uniform_color([1, 0, 0])\n",
    "    # colour the ground points dark green\n",
    "    ground_points = pcd.select_by_index(ground_points_idx)\n",
    "    print(\"Ground_points: \", ground_points, ground_points_idx)\n",
    "    ground_points.paint_uniform_color([0.047, 0.117, 0.050])\n",
    "    \n",
    "    o3d.visualization.draw_geometries([ground_points])\n",
    "\n",
    "    return [pcd, ground_points]"
   ]
  },
  {
   "cell_type": "code",
   "execution_count": 47,
   "metadata": {},
   "outputs": [],
   "source": [
    "'''\n",
    "####################################\n",
    "    Write your solution here\n",
    "####################################\n",
    "'''\n",
    "def solution1(filepath: str) -> list[o3d.geometry.PointCloud]:\n",
    "    las = lp.read(filepath)\n",
    "    points = np.vstack((las.x, las.y, las.z)).transpose()\n",
    "    \n",
    "    #Solution 1: Using image processing method (cv2_inRange) to find color rangs of grounds.\n",
    "    ground_points_idx_sol1 = inRange_solution(las)\n",
    "\n",
    "    pcd = o3d.geometry.PointCloud()\n",
    "    \n",
    "    list_points_sol1 = ground_detection(pcd, points, ground_points_idx_sol1)\n",
    "\n",
    "    return list_points_sol1\n"
   ]
  },
  {
   "cell_type": "code",
   "execution_count": null,
   "metadata": {},
   "outputs": [
    {
     "name": "stdout",
     "output_type": "stream",
     "text": [
      "Ground_points:  PointCloud with 42276 points. [[    3]\n",
      " [    8]\n",
      " [    9]\n",
      " ...\n",
      " [87784]\n",
      " [87785]\n",
      " [87786]]\n",
      "\u001b[1;33m[Open3D WARNING] GLFW Error: Cocoa: Failed to find service port for display\u001b[0;m\n",
      "\u001b[1;33m[Open3D WARNING] GLFW Error: Cocoa: Failed to find service port for display\u001b[0;m\n",
      "\u001b[1;33m[Open3D WARNING] GLFW Error: Cocoa: Failed to find service port for display\u001b[0;m\n",
      "Ground_points:  PointCloud with 20787 points. [[    0]\n",
      " [    2]\n",
      " [    3]\n",
      " ...\n",
      " [61447]\n",
      " [61448]\n",
      " [61548]]\n",
      "\u001b[1;33m[Open3D WARNING] GLFW Error: Cocoa: Failed to find service port for display\u001b[0;m\n",
      "\u001b[1;33m[Open3D WARNING] GLFW Error: Cocoa: Failed to find service port for display\u001b[0;m\n",
      "\u001b[1;33m[Open3D WARNING] GLFW Error: Cocoa: Failed to find service port for display\u001b[0;m\n",
      "Ground_points:  PointCloud with 165732 points. [[   147]\n",
      " [   230]\n",
      " [   258]\n",
      " ...\n",
      " [297360]\n",
      " [297361]\n",
      " [297362]]\n",
      "\u001b[1;33m[Open3D WARNING] GLFW Error: Cocoa: Failed to find service port for display\u001b[0;m\n",
      "\u001b[1;33m[Open3D WARNING] GLFW Error: Cocoa: Failed to find service port for display\u001b[0;m\n",
      "\u001b[1;33m[Open3D WARNING] GLFW Error: Cocoa: Failed to find service port for display\u001b[0;m\n",
      "Ground_points:  PointCloud with 22205 points. [[  252]\n",
      " [  253]\n",
      " [  254]\n",
      " ...\n",
      " [72607]\n",
      " [72608]\n",
      " [72612]]\n",
      "\u001b[1;33m[Open3D WARNING] GLFW Error: Cocoa: Failed to find service port for display\u001b[0;m\n",
      "\u001b[1;33m[Open3D WARNING] GLFW Error: Cocoa: Failed to find service port for display\u001b[0;m\n"
     ]
    }
   ],
   "source": [
    "num_samples = 8\n",
    "\n",
    "for n in range(num_samples + 1):\n",
    "    geoms_sol1  = solution1(f'data/Pole{n}.las')\n",
    "    \n",
    "    # Solution 1\n",
    "    os.makedirs(\"solution1\", exist_ok=True)\n",
    "    \n",
    "    # To save the result images.\n",
    "    visualize(geoms_sol1, f'./solution1/ground{n}.png')\n",
    "    \n",
    "    # To visualize the results of solution1.\n",
    "    visualize(geoms_sol1)"
   ]
  },
  {
   "cell_type": "code",
   "execution_count": 40,
   "metadata": {},
   "outputs": [],
   "source": [
    "'''\n",
    "####################################\n",
    "    Write your solution here\n",
    "####################################\n",
    "'''\n",
    "def solution2(filepath: str) -> list[o3d.geometry.PointCloud]:\n",
    "    las = lp.read(filepath)\n",
    "    points = np.vstack((las.x, las.y, las.z)).transpose()\n",
    " \n",
    "    #Solution 2: Using machine learning method (K-means) to find 2 clusters (ground, others).\n",
    "    ground_points_idx_sol2 = kmean_solution(las)\n",
    "    \n",
    "    pcd = o3d.geometry.PointCloud()\n",
    "    \n",
    "    list_points_sol2 = ground_detection(pcd, points, ground_points_idx_sol2)\n",
    "\n",
    "    return list_points_sol2"
   ]
  },
  {
   "cell_type": "code",
   "execution_count": 43,
   "metadata": {},
   "outputs": [
    {
     "name": "stderr",
     "output_type": "stream",
     "text": [
      "/opt/homebrew/lib/python3.10/site-packages/sklearn/cluster/_kmeans.py:870: FutureWarning: The default value of `n_init` will change from 10 to 'auto' in 1.4. Set the value of `n_init` explicitly to suppress the warning\n",
      "  warnings.warn(\n"
     ]
    },
    {
     "name": "stdout",
     "output_type": "stream",
     "text": [
      "Ground_points:  PointCloud with 23180 points. [    0     1     2 ... 86651 86652 86653]\n",
      "\u001b[1;33m[Open3D WARNING] GLFW Error: Cocoa: Failed to find service port for display\u001b[0;m\n"
     ]
    },
    {
     "name": "stderr",
     "output_type": "stream",
     "text": [
      "/opt/homebrew/lib/python3.10/site-packages/sklearn/cluster/_kmeans.py:870: FutureWarning: The default value of `n_init` will change from 10 to 'auto' in 1.4. Set the value of `n_init` explicitly to suppress the warning\n",
      "  warnings.warn(\n"
     ]
    },
    {
     "name": "stdout",
     "output_type": "stream",
     "text": [
      "Ground_points:  PointCloud with 47678 points. [    0     1     2 ... 61581 61582 61583]\n",
      "\u001b[1;33m[Open3D WARNING] GLFW Error: Cocoa: Failed to find service port for display\u001b[0;m\n"
     ]
    },
    {
     "name": "stderr",
     "output_type": "stream",
     "text": [
      "/opt/homebrew/lib/python3.10/site-packages/sklearn/cluster/_kmeans.py:870: FutureWarning: The default value of `n_init` will change from 10 to 'auto' in 1.4. Set the value of `n_init` explicitly to suppress the warning\n",
      "  warnings.warn(\n"
     ]
    },
    {
     "name": "stdout",
     "output_type": "stream",
     "text": [
      "Ground_points:  PointCloud with 120868 points. [  3919   4445   4446 ... 297948 298353 298354]\n",
      "\u001b[1;33m[Open3D WARNING] GLFW Error: Cocoa: Failed to find service port for display\u001b[0;m\n"
     ]
    },
    {
     "name": "stderr",
     "output_type": "stream",
     "text": [
      "/opt/homebrew/lib/python3.10/site-packages/sklearn/cluster/_kmeans.py:870: FutureWarning: The default value of `n_init` will change from 10 to 'auto' in 1.4. Set the value of `n_init` explicitly to suppress the warning\n",
      "  warnings.warn(\n"
     ]
    },
    {
     "name": "stdout",
     "output_type": "stream",
     "text": [
      "Ground_points:  PointCloud with 62558 points. [    0     1     2 ... 72929 72930 72931]\n",
      "\u001b[1;33m[Open3D WARNING] GLFW Error: Cocoa: Failed to find service port for display\u001b[0;m\n"
     ]
    },
    {
     "name": "stderr",
     "output_type": "stream",
     "text": [
      "/opt/homebrew/lib/python3.10/site-packages/sklearn/cluster/_kmeans.py:870: FutureWarning: The default value of `n_init` will change from 10 to 'auto' in 1.4. Set the value of `n_init` explicitly to suppress the warning\n",
      "  warnings.warn(\n"
     ]
    },
    {
     "name": "stdout",
     "output_type": "stream",
     "text": [
      "Ground_points:  PointCloud with 53099 points. [    0     1     2 ... 59111 59112 59113]\n",
      "\u001b[1;33m[Open3D WARNING] GLFW Error: Cocoa: Failed to find service port for display\u001b[0;m\n"
     ]
    },
    {
     "name": "stderr",
     "output_type": "stream",
     "text": [
      "/opt/homebrew/lib/python3.10/site-packages/sklearn/cluster/_kmeans.py:870: FutureWarning: The default value of `n_init` will change from 10 to 'auto' in 1.4. Set the value of `n_init` explicitly to suppress the warning\n",
      "  warnings.warn(\n"
     ]
    },
    {
     "name": "stdout",
     "output_type": "stream",
     "text": [
      "Ground_points:  PointCloud with 24604 points. [ 2411  2412  2413 ... 77089 77090 77091]\n",
      "\u001b[1;33m[Open3D WARNING] GLFW Error: Cocoa: Failed to find service port for display\u001b[0;m\n"
     ]
    },
    {
     "name": "stderr",
     "output_type": "stream",
     "text": [
      "/opt/homebrew/lib/python3.10/site-packages/sklearn/cluster/_kmeans.py:870: FutureWarning: The default value of `n_init` will change from 10 to 'auto' in 1.4. Set the value of `n_init` explicitly to suppress the warning\n",
      "  warnings.warn(\n"
     ]
    },
    {
     "name": "stdout",
     "output_type": "stream",
     "text": [
      "Ground_points:  PointCloud with 11210 points. [24505 24506 24519 ... 48285 48286 48287]\n",
      "\u001b[1;33m[Open3D WARNING] GLFW Error: Cocoa: Failed to find service port for display\u001b[0;m\n"
     ]
    },
    {
     "name": "stderr",
     "output_type": "stream",
     "text": [
      "/opt/homebrew/lib/python3.10/site-packages/sklearn/cluster/_kmeans.py:870: FutureWarning: The default value of `n_init` will change from 10 to 'auto' in 1.4. Set the value of `n_init` explicitly to suppress the warning\n",
      "  warnings.warn(\n"
     ]
    },
    {
     "name": "stdout",
     "output_type": "stream",
     "text": [
      "Ground_points:  PointCloud with 50502 points. [    0     1     2 ... 61834 61835 61836]\n",
      "\u001b[1;33m[Open3D WARNING] GLFW Error: Cocoa: Failed to find service port for display\u001b[0;m\n"
     ]
    },
    {
     "name": "stderr",
     "output_type": "stream",
     "text": [
      "/opt/homebrew/lib/python3.10/site-packages/sklearn/cluster/_kmeans.py:870: FutureWarning: The default value of `n_init` will change from 10 to 'auto' in 1.4. Set the value of `n_init` explicitly to suppress the warning\n",
      "  warnings.warn(\n"
     ]
    },
    {
     "name": "stdout",
     "output_type": "stream",
     "text": [
      "Ground_points:  PointCloud with 60411 points. [    0     1     2 ... 77125 77126 77127]\n",
      "\u001b[1;33m[Open3D WARNING] GLFW Error: Cocoa: Failed to find service port for display\u001b[0;m\n"
     ]
    }
   ],
   "source": [
    "num_samples = 8\n",
    "\n",
    "for n in range(num_samples + 1):\n",
    "    geoms_sol2  = solution2(f'data/Pole{n}.las')\n",
    "    \n",
    "    # Solution 2\n",
    "    os.makedirs(\"solution2\", exist_ok=True)\n",
    "    \n",
    "    # To save the result images.\n",
    "    visualize(geoms_sol2, f'./solution2/ground{n}.png')\n",
    "    \n",
    "    # To visualize the results of solution2.\n",
    "    visualize(geoms_sol2)\n",
    "    "
   ]
  },
  {
   "cell_type": "code",
   "execution_count": 28,
   "metadata": {},
   "outputs": [],
   "source": [
    "'''\n",
    "####################################\n",
    "    Write your solution here\n",
    "####################################\n",
    "'''\n",
    "def solution3(filepath: str) -> list[o3d.geometry.PointCloud]:\n",
    "    las = lp.read(filepath)\n",
    "    points = np.vstack((las.x, las.y, las.z)).transpose()\n",
    "\n",
    "    #Solution 3: Using image processing method (slope based) to find grounds.\n",
    "    ground_points_idx_sol3 = slope_based_solution(las)\n",
    "    \n",
    "    pcd = o3d.geometry.PointCloud()\n",
    "    \n",
    "    list_points_sol3 = ground_detection(pcd, points, ground_points_idx_sol3)\n",
    "\n",
    "    return list_points_sol3"
   ]
  },
  {
   "cell_type": "code",
   "execution_count": 44,
   "metadata": {},
   "outputs": [
    {
     "name": "stdout",
     "output_type": "stream",
     "text": [
      "Ground_points:  PointCloud with 34527 points. [ 1611  1612  1613 ... 87786 87787 87788]\n",
      "\u001b[1;33m[Open3D WARNING] GLFW Error: Cocoa: Failed to find service port for display\u001b[0;m\n",
      "Ground_points:  PointCloud with 36642 points. [    0     1     2 ... 61581 61582 61583]\n",
      "\u001b[1;33m[Open3D WARNING] GLFW Error: Cocoa: Failed to find service port for display\u001b[0;m\n",
      "Ground_points:  PointCloud with 93918 points. [     1      2      3 ... 298477 298478 298479]\n",
      "\u001b[1;33m[Open3D WARNING] GLFW Error: Cocoa: Failed to find service port for display\u001b[0;m\n",
      "Ground_points:  PointCloud with 46837 points. [  821   823   824 ... 72929 72930 72931]\n",
      "\u001b[1;33m[Open3D WARNING] GLFW Error: Cocoa: Failed to find service port for display\u001b[0;m\n",
      "Ground_points:  PointCloud with 16190 points. [  481   482   483 ... 58853 58854 58855]\n",
      "\u001b[1;33m[Open3D WARNING] GLFW Error: Cocoa: Failed to find service port for display\u001b[0;m\n",
      "Ground_points:  PointCloud with 46318 points. [    0     1     2 ... 80174 80175 80176]\n",
      "\u001b[1;33m[Open3D WARNING] GLFW Error: Cocoa: Failed to find service port for display\u001b[0;m\n",
      "Ground_points:  PointCloud with 37814 points. [ 19370  19371  19372 ... 100726 100727 100728]\n",
      "\u001b[1;33m[Open3D WARNING] GLFW Error: Cocoa: Failed to find service port for display\u001b[0;m\n",
      "Ground_points:  PointCloud with 29989 points. [    1     3     4 ... 61834 61835 61836]\n",
      "\u001b[1;33m[Open3D WARNING] GLFW Error: Cocoa: Failed to find service port for display\u001b[0;m\n",
      "Ground_points:  PointCloud with 28092 points. [    0     1     2 ... 74308 74309 74310]\n",
      "\u001b[1;33m[Open3D WARNING] GLFW Error: Cocoa: Failed to find service port for display\u001b[0;m\n"
     ]
    }
   ],
   "source": [
    "num_samples = 8\n",
    "\n",
    "for n in range(num_samples + 1):\n",
    "    geoms_sol3  = solution3(f'data/Pole{n}.las')\n",
    "    \n",
    "    # Solution 3\n",
    "    os.makedirs(\"solution3\", exist_ok=True)\n",
    "    \n",
    "    # To save the result images.\n",
    "    visualize(geoms_sol3, f'./solution3/ground{n}.png')\n",
    "    \n",
    "    # To visualize the results of solution3.\n",
    "    visualize(geoms_sol3)"
   ]
  },
  {
   "cell_type": "code",
   "execution_count": null,
   "metadata": {},
   "outputs": [],
   "source": []
  }
 ],
 "metadata": {
  "kernelspec": {
   "display_name": "Python 3 (ipykernel)",
   "language": "python",
   "name": "python3"
  },
  "language_info": {
   "codemirror_mode": {
    "name": "ipython",
    "version": 3
   },
   "file_extension": ".py",
   "mimetype": "text/x-python",
   "name": "python",
   "nbconvert_exporter": "python",
   "pygments_lexer": "ipython3",
   "version": "3.10.10"
  },
  "vscode": {
   "interpreter": {
    "hash": "0b56d38f8a2649e9a141674c2724283d341add7a96ea3809759f8dfbea88ea7f"
   }
  }
 },
 "nbformat": 4,
 "nbformat_minor": 2
}
